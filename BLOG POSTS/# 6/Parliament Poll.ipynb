{
 "cells": [
  {
   "cell_type": "code",
   "execution_count": 1,
   "metadata": {},
   "outputs": [],
   "source": [
    "import plotly.plotly as py\n",
    "import plotly.graph_objs as go\n",
    "import plotly.figure_factory as ff\n",
    "import pandas as pd\n",
    "import numpy as np\n",
    "\n",
    "import matplotlib.pyplot as plt\n",
    "import numpy as np"
   ]
  },
  {
   "cell_type": "code",
   "execution_count": 2,
   "metadata": {},
   "outputs": [],
   "source": [
    "xls = pd.ExcelFile(\"Public Opinion Raw Data.xlsx\")\n",
    "poll = pd.read_excel(xls, \"Slide13\")"
   ]
  },
  {
   "cell_type": "code",
   "execution_count": 3,
   "metadata": {},
   "outputs": [],
   "source": [
    "strongly_approve = go.Scatter(\n",
    "x = poll.Time,\n",
    "y = poll.StronglyApprove,\n",
    "mode = 'markers',\n",
    "name = 'Strongly Approve',\n",
    "marker = dict(\n",
    "    size = 11,\n",
    "    color = '#28B463',\n",
    "    opacity = .85,\n",
    "    line = dict(width = 1))\n",
    "\n",
    ")\n",
    "somewhat_approve = go.Scatter(\n",
    "x = poll.Time,\n",
    "y = poll.SomewhatApprove,\n",
    "mode = 'markers',\n",
    "name = 'Somewhat Approve',\n",
    "marker = dict(\n",
    "    size = 11,\n",
    "    color = '#F7DC6F',\n",
    "    opacity = .85,\n",
    "    line = dict(width = 1))\n",
    "\n",
    ")\n",
    "somewhat_disapprove = go.Scatter(\n",
    "x = poll.Time,\n",
    "y = poll.SomewhatDisapprove,\n",
    "mode = 'markers',\n",
    "name = 'Somewhat Disapprove',\n",
    "marker = dict(\n",
    "    size = 11,\n",
    "    color = '#E67E22',\n",
    "    opacity = .85,\n",
    "    line = dict(width = 1))\n",
    "\n",
    ")\n",
    "strongly_disapprove = go.Scatter(\n",
    "x = poll.Time,\n",
    "y = poll.StronglyDisapprove,\n",
    "mode = 'markers',\n",
    "name = 'Strongly Disapprove',\n",
    "marker = dict(\n",
    "    size = 11,\n",
    "    color = '#B03A2E',\n",
    "    opacity = .85,\n",
    "    line = dict(width = 1))\n",
    "\n",
    ")"
   ]
  },
  {
   "cell_type": "code",
   "execution_count": 6,
   "metadata": {},
   "outputs": [],
   "source": [
    "data = [strongly_approve, somewhat_approve, somewhat_disapprove, strongly_disapprove]\n",
    "layout = go.Layout(title = 'Approval Ratings of Ukrainian Parliament, 2014 - 2018', xaxis = dict(title = 'Month and Year'), yaxis = dict(title = 'Percentage'))"
   ]
  },
  {
   "cell_type": "code",
   "execution_count": 5,
   "metadata": {},
   "outputs": [
    {
     "name": "stderr",
     "output_type": "stream",
     "text": [
      "C:\\Users\\nymos\\Anaconda3\\lib\\site-packages\\IPython\\core\\display.py:689: UserWarning:\n",
      "\n",
      "Consider using IPython.display.IFrame instead\n",
      "\n"
     ]
    },
    {
     "data": {
      "text/html": [
       "<iframe id=\"igraph\" scrolling=\"no\" style=\"border:none;\" seamless=\"seamless\" src=\"https://plot.ly/~nymosis/62.embed\" height=\"525px\" width=\"100%\"></iframe>"
      ],
      "text/plain": [
       "<plotly.tools.PlotlyDisplay object>"
      ]
     },
     "execution_count": 5,
     "metadata": {},
     "output_type": "execute_result"
    }
   ],
   "source": [
    "fig = go.Figure(data = data, layout = layout)\n",
    "\n",
    "py.iplot(fig, filename='scatter-mode')"
   ]
  },
  {
   "cell_type": "code",
   "execution_count": null,
   "metadata": {},
   "outputs": [],
   "source": []
  }
 ],
 "metadata": {
  "kernelspec": {
   "display_name": "Python 3",
   "language": "python",
   "name": "python3"
  },
  "language_info": {
   "codemirror_mode": {
    "name": "ipython",
    "version": 3
   },
   "file_extension": ".py",
   "mimetype": "text/x-python",
   "name": "python",
   "nbconvert_exporter": "python",
   "pygments_lexer": "ipython3",
   "version": "3.7.2"
  }
 },
 "nbformat": 4,
 "nbformat_minor": 2
}
