{
 "cells": [
  {
   "cell_type": "code",
   "execution_count": 5,
   "metadata": {},
   "outputs": [
    {
     "data": {
      "text/plain": [
       "'file://C:\\\\Users\\\\nymos\\\\Documents\\\\MEGA\\\\Coding Training\\\\BLOG POSTS\\\\# 3\\\\simple.html'"
      ]
     },
     "execution_count": 5,
     "metadata": {},
     "output_type": "execute_result"
    }
   ],
   "source": [
    "import numpy as np\n",
    "import plotly.graph_objs as go\n",
    "import plotly.offline as ply\n",
    "\n",
    "# Create sample data \n",
    "\n",
    "n = 201\n",
    "x = np.linspace(0, 2 * np.pi, n)\n",
    "y1 = np.sin(x)\n",
    "y2 = np.cos(x)\n",
    "y3 = y1 + y2\n",
    "\n",
    "# Plotly steps begin\n",
    "\n",
    "# Create traces - data collections\n",
    "\n",
    "trace1 = go.Scatter(x = x,\n",
    "                    y = y1,\n",
    "                    name = \"sine curve\",\n",
    "                    line = dict(\n",
    "                        color = (\"green\"),\n",
    "                        width = 4,\n",
    "                        dash = \"dot\"\n",
    "                    )\n",
    "                   )  # this is a plotly dictionary which takes arguements. X is for the x-axis and y is for the y\n",
    "\n",
    "trace2 = go.Scatter(x = x,\n",
    "                    y = y2,\n",
    "                    name = \"cosine curve\",\n",
    "                    line = dict(\n",
    "                        color = (\"red\"),\n",
    "                        width = 4,\n",
    "                        dash = \"dash\"\n",
    "                    )\n",
    "                   ) \n",
    "\n",
    "trace3 = go.Scatter(x = x,\n",
    "                    y = y3,\n",
    "                    name = \"cosine curve\",\n",
    "                    line = dict(\n",
    "                        color = (\"blue\"),\n",
    "                        width = 4,\n",
    "                        dash = \"dashdot\"\n",
    "                    )\n",
    "                   ) \n",
    "\n",
    "# Create info / layout dictionary which contains titles\n",
    "\n",
    "layout = dict(\n",
    "    title = \"Some sample sinusoidal curves\", \n",
    "    xaxis = dict(title = \"Angles in Radian\"),\n",
    "    yaxis = dict(title = \"Magnitude\")\n",
    ")\n",
    "\n",
    "# Pack the data\n",
    "\n",
    "data = [trace1, trace2, trace3]   # this is a list of dictionaries. \n",
    "\n",
    "# Create a figure\n",
    "fig = dict(data = data, layout = layout)\n",
    "\n",
    "# Plot\n",
    "ply.plot(fig, filename = \"simple.html\")"
   ]
  },
  {
   "cell_type": "code",
   "execution_count": null,
   "metadata": {},
   "outputs": [],
   "source": []
  }
 ],
 "metadata": {
  "kernelspec": {
   "display_name": "Python 3",
   "language": "python",
   "name": "python3"
  },
  "language_info": {
   "codemirror_mode": {
    "name": "ipython",
    "version": 3
   },
   "file_extension": ".py",
   "mimetype": "text/x-python",
   "name": "python",
   "nbconvert_exporter": "python",
   "pygments_lexer": "ipython3",
   "version": "3.6.5"
  }
 },
 "nbformat": 4,
 "nbformat_minor": 2
}
