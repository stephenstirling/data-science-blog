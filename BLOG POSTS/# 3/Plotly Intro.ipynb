{
 "cells": [
  {
   "cell_type": "code",
   "execution_count": 28,
   "metadata": {},
   "outputs": [],
   "source": [
    "import numpy as np\n",
    "import plotly\n",
    "import plotly.plotly as py\n",
    "import plotly.graph_objs as go\n",
    "import ipywidgets as widgets\n",
    "from scipy import special \n",
    "\n",
    "plotly.tools.set_credentials_file(username='nymosis', api_key='SrqjxBKlae3PaYfHqTN5')"
   ]
  },
  {
   "cell_type": "code",
   "execution_count": 39,
   "metadata": {},
   "outputs": [
    {
     "data": {
      "application/vnd.jupyter.widget-view+json": {
       "model_id": "3794c23a3fbb4dfaba01ee47c0f3243e",
       "version_major": 2,
       "version_minor": 0
      },
      "text/plain": [
       "interactive(children=(SelectMultiple(description='Bessel Order', index=(0,), options=(0, 1, 2, 3, 4, 5), value…"
      ]
     },
     "metadata": {},
     "output_type": "display_data"
    }
   ],
   "source": [
    "x = np.linspace(0, np.pi, 1000)\n",
    "\n",
    "layout = go.Layout(\n",
    "    title = \"SIMPLE EXAMPLE\", \n",
    "    yaxis = dict(\n",
    "        title = \"volts\"\n",
    "    ),\n",
    "    xaxis = dict(\n",
    "        title=\"nanoseconds\" \n",
    "    )\n",
    ")\n",
    "\n",
    "def update_plot(signals, freq):\n",
    "    \n",
    "    data = []\n",
    "    for s in signals:\n",
    "        trace1 = go.Scatter(\n",
    "            x = x,\n",
    "            y = special.jv(s, freq * x), \n",
    "            mode = \"lines\",\n",
    "            name = \"bessel {}\".format(s),\n",
    "            line = dict(\n",
    "                shape = \"spline\"\n",
    "            )\n",
    "        )\n",
    "        data.append(trace1)\n",
    "\n",
    "    fig = go.Figure(data=data, layout=layout)\n",
    "    py.iplot(fig)\n",
    "    \n",
    "signals = widgets.SelectMultiple(options=list(range(6)), value = (0, ), description = \"Bessel Order\")\n",
    "freq = widgets.FloatSlider(min=1, max=20, value = 1, description = \"Freq\")\n",
    "widgets.interactive(update_plot, signals=signals, freq=freq)\n"
   ]
  },
  {
   "cell_type": "code",
   "execution_count": null,
   "metadata": {},
   "outputs": [],
   "source": []
  }
 ],
 "metadata": {
  "kernelspec": {
   "display_name": "Python 3",
   "language": "python",
   "name": "python3"
  },
  "language_info": {
   "codemirror_mode": {
    "name": "ipython",
    "version": 3
   },
   "file_extension": ".py",
   "mimetype": "text/x-python",
   "name": "python",
   "nbconvert_exporter": "python",
   "pygments_lexer": "ipython3",
   "version": "3.6.5"
  }
 },
 "nbformat": 4,
 "nbformat_minor": 2
}
